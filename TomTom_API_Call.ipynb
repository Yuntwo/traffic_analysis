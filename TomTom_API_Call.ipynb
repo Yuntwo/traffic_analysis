{
 "cells": [
  {
   "cell_type": "markdown",
   "metadata": {},
   "source": [
    "** API CALL FOR Route Analysis (Step 1)\n",
    "<br/>ordering jobs with POST requests. In its response the user receives a jobId\n",
    "<br/>https://developer.tomtom.com/traffic-stats/documentation/api/route-analysis\n"
   ]
  },
  {
   "cell_type": "code",
   "execution_count": 1,
   "metadata": {},
   "outputs": [
    {
     "name": "stdout",
     "output_type": "stream",
     "text": [
      "Error: 403, <h1>Developer Inactive</h1>\n"
     ]
    }
   ],
   "source": [
    "import requests\n",
    "import json\n",
    "\n",
    "# Define the base URL and API key\n",
    "base_url = \"https://api.tomtom.com\"\n",
    "endpoint = \"/traffic/trafficstats/routeanalysis/1\"\n",
    "api_key = \"{Please get the Key}\"\n",
    "\n",
    "# Construct the full URL\n",
    "url = f\"{base_url}{endpoint}?key={api_key}\"\n",
    "\n",
    "# Define the payload\n",
    "payload = {\n",
    "    \"jobName\": \"Bukit Timah Road\",\n",
    "    \"distanceUnit\": \"KILOMETERS\",\n",
    "    \"mapVersion\": \"2023.12.000\",\n",
    "    \"acceptMode\": \"MANUAL\",\n",
    "    \"routes\": [\n",
    "        {\n",
    "            \"name\": \"Bukit Timah\",\n",
    "            \"start\": {\"latitude\": 1.31316, \"longitude\": 103.83883},\n",
    "            \"via\": [],\n",
    "            \"end\": {\"latitude\": 1.33804, \"longitude\": 103.77769},\n",
    "            \"fullTraversal\": False,\n",
    "            \"zoneId\": \"Asia/Singapore\",\n",
    "            \"probeSource\": \"ALL\"\n",
    "        }\n",
    "    ],\n",
    "    \"dateRanges\": [\n",
    "        {\n",
    "            \"name\": \"Monthly Travel\",\n",
    "            \"from\": \"2024-08-01\",\n",
    "            \"to\": \"2024-08-31\",\n",
    "            \"exclusions\": []\n",
    "        }\n",
    "    ],\n",
    "    \"timeSets\": [\n",
    "        {\n",
    "            \"name\": \"8:00-9:00\",\n",
    "            \"timeGroups\": [\n",
    "                {\n",
    "                    \"days\": [\"MON\", \"TUE\", \"WED\", \"THU\", \"FRI\", \"SAT\", \"SUN\"],\n",
    "                    \"times\": [\"8:00-9:00\"]\n",
    "                }\n",
    "            ]\n",
    "        }\n",
    "    ]\n",
    "}\n",
    "\n",
    "# Send the POST request\n",
    "response = requests.post(url, json=payload)\n",
    "\n",
    "# Check the response\n",
    "if response.status_code == 200:\n",
    "    data = response.json()\n",
    "    print(json.dumps(data, indent=4))\n",
    "else:\n",
    "    print(f\"Error: {response.status_code}, {response.text}\")\n"
   ]
  },
  {
   "cell_type": "markdown",
   "metadata": {},
   "source": [
    "{\n",
    "    \"jobId\": \"4970573\",\n",
    "    \"responseStatus\": \"OK\",\n",
    "    \"messages\": [\n",
    "        \"Job created. Processing started.\"\n",
    "    ]\n",
    "}"
   ]
  },
  {
   "cell_type": "markdown",
   "metadata": {},
   "source": [
    "## Check job status"
   ]
  },
  {
   "cell_type": "code",
   "execution_count": 2,
   "metadata": {},
   "outputs": [
    {
     "name": "stdout",
     "output_type": "stream",
     "text": [
      "Error: 403, <h1>Developer Inactive</h1>\n"
     ]
    }
   ],
   "source": [
    "import requests\n",
    "\n",
    "# Define the base URL and API key\n",
    "base_url = \"https://api.tomtom.com\"\n",
    "job_id = \"4970573\"  # Replace with your actual job ID\n",
    "api_key = \"{Please get the Key}\"\n",
    "\n",
    "# Construct the URL for checking job status\n",
    "status_url = f\"{base_url}/traffic/trafficstats/status/1/{job_id}?key={api_key}\"\n",
    "\n",
    "# Send the GET request\n",
    "response = requests.get(status_url)\n",
    "\n",
    "# Check the response\n",
    "if response.status_code == 200:\n",
    "    data = response.json()\n",
    "    print(data)  # Print the job status\n",
    "else:\n",
    "    print(f\"Error: {response.status_code}, {response.text}\")\n"
   ]
  },
  {
   "cell_type": "markdown",
   "metadata": {},
   "source": [
    "### Confirming job results Accept the job, if not approved"
   ]
  },
  {
   "cell_type": "code",
   "execution_count": 5,
   "metadata": {},
   "outputs": [
    {
     "name": "stdout",
     "output_type": "stream",
     "text": [
      "Error: 400, {\"jobId\":\"4970573\",\"responseStatus\":\"ERROR\",\"messages\":[\"Job can not be accepted. Only job with state 'NEED_CONFIRMATION' can be accepted.\"]}\n"
     ]
    }
   ],
   "source": [
    "import requests\n",
    "\n",
    "# Define the base URL and API key\n",
    "base_url = \"https://api.tomtom.com\"\n",
    "job_id = \"4970573\"  # Replace with your actual job ID\n",
    "api_key = \"{Please get the Key}\"\n",
    "\n",
    "# Construct the URL for accepting the job status\n",
    "accept_url = f\"{base_url}/traffic/trafficstats/status/1/{job_id}/accept?key={api_key}\"\n",
    "\n",
    "# Send the POST request to accept the job status\n",
    "response = requests.post(accept_url)\n",
    "\n",
    "# Check the response status code\n",
    "if response.status_code == 200:\n",
    "    try:\n",
    "        data = response.json()  # Attempt to decode JSON\n",
    "        print(data)  # Print the response confirming acceptance\n",
    "    except ValueError:\n",
    "        print(\"Error: Response content is not valid JSON.\")\n",
    "        print(\"Response content:\", response.text)\n",
    "else:\n",
    "    print(f\"Error: {response.status_code}, {response.text}\")\n"
   ]
  }
 ],
 "metadata": {
  "kernelspec": {
   "display_name": "Python 3 (ipykernel)",
   "language": "python",
   "name": "python3"
  },
  "language_info": {
   "codemirror_mode": {
    "name": "ipython",
    "version": 3
   },
   "file_extension": ".py",
   "mimetype": "text/x-python",
   "name": "python",
   "nbconvert_exporter": "python",
   "pygments_lexer": "ipython3",
   "version": "3.8.10"
  }
 },
 "nbformat": 4,
 "nbformat_minor": 4
}
